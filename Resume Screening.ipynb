{
 "cells": [
  {
   "cell_type": "code",
   "execution_count": 1,
   "id": "90e92ce9-9ded-47a5-8383-b3de9e8185df",
   "metadata": {},
   "outputs": [],
   "source": [
    "import nltk\n",
    "import re\n",
    "import pandas as pd"
   ]
  },
  {
   "cell_type": "code",
   "execution_count": 34,
   "id": "4a8a8803-cdb2-4c5a-abaf-01da4186fbad",
   "metadata": {},
   "outputs": [],
   "source": [
    "data = pd.read_csv(\"data/ResumeDataSet.csv\")"
   ]
  },
  {
   "cell_type": "code",
   "execution_count": 36,
   "id": "b2e68b29-1758-4f87-ac2a-4b97c68d3484",
   "metadata": {},
   "outputs": [
    {
     "data": {
      "text/html": [
       "<div>\n",
       "<style scoped>\n",
       "    .dataframe tbody tr th:only-of-type {\n",
       "        vertical-align: middle;\n",
       "    }\n",
       "\n",
       "    .dataframe tbody tr th {\n",
       "        vertical-align: top;\n",
       "    }\n",
       "\n",
       "    .dataframe thead th {\n",
       "        text-align: right;\n",
       "    }\n",
       "</style>\n",
       "<table border=\"1\" class=\"dataframe\">\n",
       "  <thead>\n",
       "    <tr style=\"text-align: right;\">\n",
       "      <th></th>\n",
       "      <th>Category</th>\n",
       "      <th>Resume</th>\n",
       "    </tr>\n",
       "  </thead>\n",
       "  <tbody>\n",
       "    <tr>\n",
       "      <th>0</th>\n",
       "      <td>Data Science</td>\n",
       "      <td>Skills * Programming Languages: Python (pandas...</td>\n",
       "    </tr>\n",
       "    <tr>\n",
       "      <th>1</th>\n",
       "      <td>Data Science</td>\n",
       "      <td>Education Details \\r\\nMay 2013 to May 2017 B.E...</td>\n",
       "    </tr>\n",
       "    <tr>\n",
       "      <th>2</th>\n",
       "      <td>Data Science</td>\n",
       "      <td>Areas of Interest Deep Learning, Control Syste...</td>\n",
       "    </tr>\n",
       "    <tr>\n",
       "      <th>3</th>\n",
       "      <td>Data Science</td>\n",
       "      <td>Skills â¢ R â¢ Python â¢ SAP HANA â¢ Table...</td>\n",
       "    </tr>\n",
       "    <tr>\n",
       "      <th>4</th>\n",
       "      <td>Data Science</td>\n",
       "      <td>Education Details \\r\\n MCA   YMCAUST,  Faridab...</td>\n",
       "    </tr>\n",
       "  </tbody>\n",
       "</table>\n",
       "</div>"
      ],
      "text/plain": [
       "       Category                                             Resume\n",
       "0  Data Science  Skills * Programming Languages: Python (pandas...\n",
       "1  Data Science  Education Details \\r\\nMay 2013 to May 2017 B.E...\n",
       "2  Data Science  Areas of Interest Deep Learning, Control Syste...\n",
       "3  Data Science  Skills â¢ R â¢ Python â¢ SAP HANA â¢ Table...\n",
       "4  Data Science  Education Details \\r\\n MCA   YMCAUST,  Faridab..."
      ]
     },
     "execution_count": 36,
     "metadata": {},
     "output_type": "execute_result"
    }
   ],
   "source": [
    "data.head()"
   ]
  },
  {
   "cell_type": "code",
   "execution_count": 4,
   "id": "ee8b852b-2cd2-40bd-b73d-74220cdec8b2",
   "metadata": {},
   "outputs": [
    {
     "data": {
      "text/plain": [
       "(962, 2)"
      ]
     },
     "execution_count": 4,
     "metadata": {},
     "output_type": "execute_result"
    }
   ],
   "source": [
    "data.shape"
   ]
  },
  {
   "cell_type": "code",
   "execution_count": 5,
   "id": "bf33d618-add5-41ab-bdc8-24866cc73acb",
   "metadata": {},
   "outputs": [
    {
     "data": {
      "text/plain": [
       "array(['Data Science', 'HR', 'Advocate', 'Arts', 'Web Designing',\n",
       "       'Mechanical Engineer', 'Sales', 'Health and fitness',\n",
       "       'Civil Engineer', 'Java Developer', 'Business Analyst',\n",
       "       'SAP Developer', 'Automation Testing', 'Electrical Engineering',\n",
       "       'Operations Manager', 'Python Developer', 'DevOps Engineer',\n",
       "       'Network Security Engineer', 'PMO', 'Database', 'Hadoop',\n",
       "       'ETL Developer', 'DotNet Developer', 'Blockchain', 'Testing'],\n",
       "      dtype=object)"
      ]
     },
     "execution_count": 5,
     "metadata": {},
     "output_type": "execute_result"
    }
   ],
   "source": [
    "data['Category'].unique()"
   ]
  },
  {
   "cell_type": "code",
   "execution_count": 38,
   "id": "0f7e4b74-9ff5-4dae-9d0e-200f4f0bf287",
   "metadata": {},
   "outputs": [],
   "source": [
    "from nltk.corpus import stopwords\n",
    "stop = stopwords.words('english')\n",
    "def text_preprocessing(text):\n",
    "    text = text.lower()\n",
    "    text = re.sub(r\"<[^>]*>\",'',text)\n",
    "    text = re.sub(r\"https?://\\S+|www\\.\\S+\",'',text)\n",
    "    text = re.sub(r\"[^\\w\\s]\",'',text)\n",
    "    text = re.sub(r\"\\d+\",'',text)\n",
    "    text = re.sub(r\"[^\\x00-\\x7F]+\",'',text)\n",
    "    text = [word for word in text.split() if word.lower() not in stop]\n",
    "    return \" \".join(text)"
   ]
  },
  {
   "cell_type": "code",
   "execution_count": 40,
   "id": "86d52712-fe71-4ad9-a588-7ed3287adbc1",
   "metadata": {},
   "outputs": [],
   "source": [
    "from sklearn.preprocessing import LabelEncoder\n",
    "le = LabelEncoder()\n",
    "le.fit(data['Category'])\n",
    "data['Category'] = le.transform(data['Category'])"
   ]
  },
  {
   "cell_type": "code",
   "execution_count": 42,
   "id": "c73e81fd-9ceb-4a2e-b3d2-e7032e1efaf3",
   "metadata": {},
   "outputs": [],
   "source": [
    "data['Resume'] =  data['Resume'].apply(text_preprocessing)"
   ]
  },
  {
   "cell_type": "code",
   "execution_count": 44,
   "id": "0ffe7034-cd5b-4130-a774-95e59f60d86f",
   "metadata": {},
   "outputs": [
    {
     "data": {
      "text/html": [
       "<div>\n",
       "<style scoped>\n",
       "    .dataframe tbody tr th:only-of-type {\n",
       "        vertical-align: middle;\n",
       "    }\n",
       "\n",
       "    .dataframe tbody tr th {\n",
       "        vertical-align: top;\n",
       "    }\n",
       "\n",
       "    .dataframe thead th {\n",
       "        text-align: right;\n",
       "    }\n",
       "</style>\n",
       "<table border=\"1\" class=\"dataframe\">\n",
       "  <thead>\n",
       "    <tr style=\"text-align: right;\">\n",
       "      <th></th>\n",
       "      <th>Category</th>\n",
       "      <th>Resume</th>\n",
       "    </tr>\n",
       "  </thead>\n",
       "  <tbody>\n",
       "    <tr>\n",
       "      <th>0</th>\n",
       "      <td>6</td>\n",
       "      <td>skills programming languages python pandas num...</td>\n",
       "    </tr>\n",
       "    <tr>\n",
       "      <th>1</th>\n",
       "      <td>6</td>\n",
       "      <td>education details may may uitrgpv data scienti...</td>\n",
       "    </tr>\n",
       "    <tr>\n",
       "      <th>2</th>\n",
       "      <td>6</td>\n",
       "      <td>areas interest deep learning control system de...</td>\n",
       "    </tr>\n",
       "    <tr>\n",
       "      <th>3</th>\n",
       "      <td>6</td>\n",
       "      <td>skills r python sap hana tableau sap hana sql ...</td>\n",
       "    </tr>\n",
       "    <tr>\n",
       "      <th>4</th>\n",
       "      <td>6</td>\n",
       "      <td>education details mca ymcaust faridabad haryan...</td>\n",
       "    </tr>\n",
       "  </tbody>\n",
       "</table>\n",
       "</div>"
      ],
      "text/plain": [
       "   Category                                             Resume\n",
       "0         6  skills programming languages python pandas num...\n",
       "1         6  education details may may uitrgpv data scienti...\n",
       "2         6  areas interest deep learning control system de...\n",
       "3         6  skills r python sap hana tableau sap hana sql ...\n",
       "4         6  education details mca ymcaust faridabad haryan..."
      ]
     },
     "execution_count": 44,
     "metadata": {},
     "output_type": "execute_result"
    }
   ],
   "source": [
    "data.head()"
   ]
  },
  {
   "cell_type": "code",
   "execution_count": 94,
   "id": "b83f1ec9-4973-451f-80b8-e6d8ace8dd7f",
   "metadata": {},
   "outputs": [],
   "source": [
    "from sklearn.feature_extraction.text import TfidfVectorizer\n",
    "tvect = TfidfVectorizer(stop_words='english')\n",
    "tvect.fit(data['Resume'])\n",
    "word2vec = tvect.transform(data['Resume'])"
   ]
  },
  {
   "cell_type": "code",
   "execution_count": 66,
   "id": "74d72973-1c9a-4464-b8d4-ea10a2b061cb",
   "metadata": {},
   "outputs": [],
   "source": [
    "from sklearn.model_selection import train_test_split\n",
    "xtrain,xtest,ytrain,ytest = train_test_split(word2vec,data['Category'],test_size=0.2,random_state=42)"
   ]
  },
  {
   "cell_type": "code",
   "execution_count": 68,
   "id": "ebb8423a-ffa5-4758-8aa1-db7cbf8dc1ae",
   "metadata": {},
   "outputs": [
    {
     "data": {
      "text/plain": [
       "((769, 7461), (193, 7461), (769,), (193,))"
      ]
     },
     "execution_count": 68,
     "metadata": {},
     "output_type": "execute_result"
    }
   ],
   "source": [
    "xtrain.shape,xtest.shape,ytrain.shape,ytest.shape"
   ]
  },
  {
   "cell_type": "code",
   "execution_count": 70,
   "id": "7c888b9d-f97e-4300-b552-c1f6463184ed",
   "metadata": {},
   "outputs": [],
   "source": [
    "from sklearn.neighbors import KNeighborsClassifier\n",
    "from sklearn.multiclass import OneVsRestClassifier\n",
    "model = OneVsRestClassifier(KNeighborsClassifier())\n",
    "model.fit(xtrain,ytrain)\n",
    "ypred = model.predict(xtest)"
   ]
  },
  {
   "cell_type": "code",
   "execution_count": 72,
   "id": "043b7c61-1ea3-4d75-8f62-19011fb357b5",
   "metadata": {},
   "outputs": [
    {
     "name": "stdout",
     "output_type": "stream",
     "text": [
      "accuracy is : 0.98\n"
     ]
    }
   ],
   "source": [
    "from sklearn.metrics import accuracy_score\n",
    "print(f\"accuracy is : {accuracy_score(ytest,ypred):.2f}\")"
   ]
  },
  {
   "cell_type": "code",
   "execution_count": 74,
   "id": "07403c54-0f9c-4e3f-8b00-df7759fcb17c",
   "metadata": {},
   "outputs": [
    {
     "data": {
      "text/plain": [
       "array(['Data Science'], dtype=object)"
      ]
     },
     "execution_count": 74,
     "metadata": {},
     "output_type": "execute_result"
    }
   ],
   "source": [
    "le.inverse_transform([6])"
   ]
  },
  {
   "cell_type": "code",
   "execution_count": 98,
   "id": "2f1eb97d-1025-460e-bd1c-197bd00ecccb",
   "metadata": {},
   "outputs": [],
   "source": [
    "from pickle import dump\n",
    "dump(model,open('resume screening.pkl','wb'))"
   ]
  },
  {
   "cell_type": "code",
   "execution_count": 100,
   "id": "a19ad93b-79ab-4af0-a73b-fc991218d07f",
   "metadata": {},
   "outputs": [],
   "source": [
    "dump(le,open('resume screening le.pkl','wb'))"
   ]
  },
  {
   "cell_type": "code",
   "execution_count": 96,
   "id": "eb972c43-74ec-4c58-b135-228d6a94f3b4",
   "metadata": {},
   "outputs": [],
   "source": [
    "dump(tvect, open('resume screening word2vec.pkl','wb'))"
   ]
  },
  {
   "cell_type": "code",
   "execution_count": 78,
   "id": "5c9c229c-ef93-4c56-8fc5-4b542ee9f30e",
   "metadata": {},
   "outputs": [],
   "source": [
    "text = \"\"\"\n",
    "John Doe is an experienced Network Security Engineer with over 7 years of expertise in designing,\n",
    "implementing, and managing network security infrastructures. Specializing in safeguarding critical\n",
    "network systems, John has worked with various organizations to protect against cyber threats, data\n",
    "breaches, and unauthorized access. He is proficient in deploying firewalls, intrusion detection systems\n",
    "(IDS), VPNs, and network monitoring tools to ensure the integrity and security of networks.\n",
    "John holds a degree in Computer Science and certifications in several cybersecurity domains, including\n",
    "Certified Information Systems Security Professional (CISSP), Certified Ethical Hacker (CEH), and Cisco\n",
    "Certified Network Associate (CCNA). He has extensive experience in troubleshooting and resolving\n",
    "network vulnerabilities, and has played a key role in conducting security audits and risk assessments.\n",
    "Key Skills:\n",
    "- Network Security Architecture\n",
    "- Firewall Management and Configuration\n",
    "- Intrusion Detection and Prevention Systems (IDS/IPS)\n",
    "- Virtual Private Networks (VPNs)\n",
    "- Security Audits and Risk Assessments\n",
    "- Cybersecurity Incident Response\n",
    "- Network Monitoring and Traffic Analysis\n",
    "- Vulnerability Assessment and Penetration Testing\n",
    "- Data Encryption and Secure Communications\n",
    "Certifications:\n",
    "- CISSP (Certified Information Systems Security Professional)\n",
    "- CEH (Certified Ethical Hacker)\n",
    "- CCNA (Cisco Certified Network Associate)\n",
    "- CompTIA Security+\n",
    "Education:\n",
    "BSc in Computer Science, XYZ University, 2012-2016\n",
    "Professional Experience:\n",
    "- Network Security Engineer at ABC Corp (2016-Present)\n",
    "- IT Security Specialist at DEF Solutions (2014-2016)\n",
    "Languages:\n",
    "- English (Fluent)\n",
    "- French (Intermediate)\n",
    "\"\"\""
   ]
  },
  {
   "cell_type": "code",
   "execution_count": 80,
   "id": "fa326881-1f59-485d-abd2-58754f05e883",
   "metadata": {},
   "outputs": [],
   "source": [
    "text = text_preprocessing(text)"
   ]
  },
  {
   "cell_type": "code",
   "execution_count": 82,
   "id": "6eee4258-013c-4696-b961-417fcc76b77f",
   "metadata": {},
   "outputs": [],
   "source": [
    "text = tvect.transform([text])"
   ]
  },
  {
   "cell_type": "code",
   "execution_count": 84,
   "id": "32ff44fa-ec62-428f-a961-993db9e00320",
   "metadata": {},
   "outputs": [
    {
     "data": {
      "text/plain": [
       "array([17])"
      ]
     },
     "execution_count": 84,
     "metadata": {},
     "output_type": "execute_result"
    }
   ],
   "source": [
    "model.predict(text)"
   ]
  },
  {
   "cell_type": "code",
   "execution_count": 86,
   "id": "31f334fd-b4e6-4f44-8c2b-458d46dd6d1e",
   "metadata": {},
   "outputs": [
    {
     "data": {
      "text/plain": [
       "array(['Network Security Engineer'], dtype=object)"
      ]
     },
     "execution_count": 86,
     "metadata": {},
     "output_type": "execute_result"
    }
   ],
   "source": [
    "le.inverse_transform(model.predict(text))"
   ]
  },
  {
   "cell_type": "code",
   "execution_count": null,
   "id": "9796ad21-8d8b-4297-8c0b-b7e6ee4f73a2",
   "metadata": {},
   "outputs": [],
   "source": []
  },
  {
   "cell_type": "code",
   "execution_count": 104,
   "id": "1d271d9c-235e-4c79-a833-c1d25e1e59e7",
   "metadata": {},
   "outputs": [],
   "source": [
    "text = \"\"\"\n",
    "Jane Smith is a certified personal trainer with over 5 years of experience in helping individuals achieve \n",
    "their fitness goals. Specializing in weight loss, strength training, and sports conditioning, Jane has \n",
    "developed personalized workout routines for clients of all ages and fitness levels. She has extensive \n",
    "knowledge in nutrition and exercise science, and uses this to create holistic health and fitness programs \n",
    "that are tailored to individual needs.\n",
    "Jane holds a degree in Exercise Science and is a certified trainer through the National Academy of Sports \n",
    "Medicine (NASM). She has worked with athletes, seniors, and individuals with chronic health conditions, \n",
    "helping them improve their physical well-being and overall quality of life.\n",
    "Her expertise includes:\n",
    "- Weight Loss and Body Composition\n",
    "- Strength Training and Resistance Exercises\n",
    "- Cardio Conditioning\n",
    "- Nutrition Coaching and Meal Planning\n",
    "- Injury Prevention and Rehabilitation\n",
    "- Functional Movement and Flexibility Training\n",
    "- Group Fitness Classes\n",
    "Certifications:\n",
    "- Certified Personal Trainer, NASM\n",
    "- CPR and First Aid Certified\n",
    "- Yoga Instructor (200-Hour Certification)\n",
    "Education:\n",
    "BSc in Exercise Science, ABC University, 2014-2018\n",
    "Work Experience:\n",
    "- Personal Trainer at XYZ Fitness Gym (2018-Present)\n",
    "- Fitness Coach at Wellness Center (2016-2018)\n",
    "Languages:\n",
    "- English (Fluent)\n",
    "- Spanish (Conversational\n",
    "\"\"\""
   ]
  },
  {
   "cell_type": "code",
   "execution_count": 106,
   "id": "5e10bce5-0589-4ed0-8540-9c756bcacbc5",
   "metadata": {},
   "outputs": [
    {
     "data": {
      "text/plain": [
       "array(['Health and fitness'], dtype=object)"
      ]
     },
     "execution_count": 106,
     "metadata": {},
     "output_type": "execute_result"
    }
   ],
   "source": [
    "text = text_preprocessing(text)\n",
    "text = tvect.transform([text])\n",
    "le.inverse_transform(model.predict(text))"
   ]
  },
  {
   "cell_type": "code",
   "execution_count": 108,
   "id": "2609a130-0241-4f0f-82c8-6d7f43299ab8",
   "metadata": {},
   "outputs": [],
   "source": [
    "text = \"\"\"\n",
    "GOWRISANKAR S PROJECTS Data Scientist Bilboard Data Coloction Pipeline The Project was Song Data Collection from • billboard website. sankarallof@gmail.com I had used billboard API and some library for • 7604966490 collect last 15 years song details from billboard website and extract each songs repeated corus Theni, Tamil Nadu, India and transform the corus features to numbers . GitHub Finaly i got song popular or not dataset . • LinkedIn Billboard Song Prediction The Project was predicting popular or • unpopular songs from billboard. I had applied binary classification in Machine CAREER OBJECTIVE • Learning models, among which the best Aspiring data professional eager to leverage newly accuracy model was Naive Bayes. acquired skills in data science and machine learning The deployment was made using Django, • for impactful contributions as a Data Analyst or Data Python, HTML and CSS, the deployment files Scientist and Machine Learning. Seeking an entry- were uploaded in cloud as well. level position to apply analytical expertise, extract Flat Price Prediction actionable insights, and contribute to data-driven The Project was predicting the singapore flat decision-making in a dynamic and collaborative • resale price. work environment. I had applied using regression in Machine • Learning models, among which the best EDUCATION accuracy model was Decision Tree. The deployment was made using Streamlit, Professional Certificate Program in Generative AI • Python, HTML and CSS. and Machine Learning Simplilearn Sentiment Analysis 2024 – 2025 | Bengalore The Project was sentiment analysis of Positive • Pursuing or Negative or Neutral. I had applied text preprocessing and sentiment IITM Advanced Professional Program in Master • analyzer of pre- trained model in NLP. Data Science The deployment was made using Streamlit, GUVI Geek Networks IITM Research Park • Python, Wordcloud, HTML and CSS. 2023 – 2024 | Chennai Laptop Recommendation System Bachelor's of Engineering in CSE The Project was recommend the related laptops • SBM College of Engineering and Technology names. 2019 – 2023 | Dindigul I had applied TfidfVectorizer and cosine • CGPA-8.38 similarity. Cosine similarity gave laptop names by similar values. The deployment was made using Streamlit, SKILLS • Python, HTML and CSS. Python INTERNSHIP EXPERIENCE Machine Learning Technocolabs Software Scikit-learn Data Scientist Intern Deep Learning 03/2024 – 05/2024 | Indore Pytorch Feynn Labs SQL Machine Learning Intern Data Analysis 05/2024 – 07/2024 | Guwahati Pandas CERTIFICATES Numpy Data Science Data Science GUVI\n",
    "\"\"\""
   ]
  },
  {
   "cell_type": "code",
   "execution_count": 110,
   "id": "88068c7e-c7c5-47f8-a320-c897eb553c5e",
   "metadata": {},
   "outputs": [
    {
     "data": {
      "text/plain": [
       "array(['Data Science'], dtype=object)"
      ]
     },
     "execution_count": 110,
     "metadata": {},
     "output_type": "execute_result"
    }
   ],
   "source": [
    "text = text_preprocessing(text)\n",
    "text = tvect.transform([text])\n",
    "le.inverse_transform(model.predict(text))"
   ]
  },
  {
   "cell_type": "code",
   "execution_count": null,
   "id": "698e658d-ea93-4e61-9ce6-9206a9f905da",
   "metadata": {},
   "outputs": [],
   "source": []
  }
 ],
 "metadata": {
  "kernelspec": {
   "display_name": "Pytorch GPU",
   "language": "python",
   "name": "pytorch-gpu"
  },
  "language_info": {
   "codemirror_mode": {
    "name": "ipython",
    "version": 3
   },
   "file_extension": ".py",
   "mimetype": "text/x-python",
   "name": "python",
   "nbconvert_exporter": "python",
   "pygments_lexer": "ipython3",
   "version": "3.11.11"
  }
 },
 "nbformat": 4,
 "nbformat_minor": 5
}
